{
 "cells": [
  {
   "cell_type": "code",
   "execution_count": 1,
   "metadata": {},
   "outputs": [],
   "source": [
    "import numpy as np"
   ]
  },
  {
   "cell_type": "markdown",
   "metadata": {},
   "source": [
    "## Agenda\n",
    "1- Introduction to Numpy\n",
    "2- Creating 1D Numpy Array\n",
    "3- Creating 2D Numpy Array\n",
    "4- Finding Dimensions of Array - shape\n",
    "5- Finding Datatype of Array - dtype\n",
    "6- Array Creation and Initialization Functions - Zeros\n",
    "7- Array Creation and Initialization Functions - Ones\n",
    "8- Array Creation and Initialization Functions - empty\n",
    "9- Array Creation and Initialization Functions - eye\n",
    "10- Array Creation and Initialization Functions - orange\n",
    "11- Summarize"
   ]
  },
  {
   "cell_type": "code",
   "execution_count": 2,
   "metadata": {},
   "outputs": [
    {
     "name": "stdout",
     "output_type": "stream",
     "text": [
      "[101 102 103]\n"
     ]
    }
   ],
   "source": [
    "#Creating 1D Numpy Array\n",
    "\n",
    "mylist1 = [101, 102, 103]\n",
    "myArray = np.array(mylist1)\n",
    "print(myArray)"
   ]
  },
  {
   "cell_type": "code",
   "execution_count": 3,
   "metadata": {},
   "outputs": [
    {
     "name": "stdout",
     "output_type": "stream",
     "text": [
      "[[101 102 103]\n",
      " [201 202 203]]\n"
     ]
    }
   ],
   "source": [
    "#Creating 2D Numpy Array\n",
    "\n",
    "mylist2 = [201, 202, 203]\n",
    "myArray2D = np.array([mylist1, mylist2])\n",
    "print(myArray2D)"
   ]
  },
  {
   "cell_type": "code",
   "execution_count": 4,
   "metadata": {},
   "outputs": [
    {
     "name": "stdout",
     "output_type": "stream",
     "text": [
      "myArray Dimensions\n",
      "(3,)\n",
      "myArray2D Dimenssions\n",
      "(2, 3)\n"
     ]
    }
   ],
   "source": [
    "#Finding Dimensions of Array - shape\n",
    "print(\"myArray Dimension is\")\n",
    "print(myArray.shape)\n",
    "print(\"myArray2D Dimension is\")\n",
    "print(myArray2D.shape)"
   ]
  },
  {
   "cell_type": "code",
   "execution_count": 5,
   "metadata": {},
   "outputs": [
    {
     "name": "stdout",
     "output_type": "stream",
     "text": [
      "myArray Datatype\n",
      "int32\n",
      "myArray2D Datatype\n",
      "int32\n"
     ]
    }
   ],
   "source": [
    "#Finding Datatype of Array - dtype\n",
    "print(\"myArray Datatype\")\n",
    "print(myArray.dtype)\n",
    "print(\"myArray2D Datatype\")\n",
    "print(myArray2D.dtype)"
   ]
  },
  {
   "cell_type": "code",
   "execution_count": 6,
   "metadata": {},
   "outputs": [
    {
     "name": "stdout",
     "output_type": "stream",
     "text": [
      "[0. 0. 0. 0. 0.]\n"
     ]
    }
   ],
   "source": [
    "#Array Creation and Initialization Functions - Zeros \n",
    "\n",
    "zero_array = np.zeros(5)\n",
    "print(zero_array)"
   ]
  },
  {
   "cell_type": "code",
   "execution_count": 7,
   "metadata": {},
   "outputs": [
    {
     "name": "stdout",
     "output_type": "stream",
     "text": [
      "1D Numpy Array\n",
      "[10 12 13]\n",
      "\n",
      "2D Numpy Array\n",
      "[[10 12 13]\n",
      " [21 20 33]]\n"
     ]
    }
   ],
   "source": [
    "#Creating 1D Numpy Array\n",
    "\n",
    "mylist1 = [10, 12, 13]\n",
    "myArray = np.array(mylist1)\n",
    "\n",
    "#Creating 2D Numpy Array\n",
    "mylist2 = [21, 20, 33]\n",
    "myArray2D = np.array([mylist1, mylist2])\n",
    "\n",
    "\n",
    "\n",
    "#Printing the result\n",
    "print('1D Numpy Array')\n",
    "print(myArray)\n",
    "print()\n",
    "print('2D Numpy Array')\n",
    "print(myArray2D)"
   ]
  },
  {
   "cell_type": "code",
   "execution_count": null,
   "metadata": {},
   "outputs": [],
   "source": []
  }
 ],
 "metadata": {
  "kernelspec": {
   "display_name": "Python 3",
   "language": "python",
   "name": "python3"
  },
  "language_info": {
   "codemirror_mode": {
    "name": "ipython",
    "version": 3
   },
   "file_extension": ".py",
   "mimetype": "text/x-python",
   "name": "python",
   "nbconvert_exporter": "python",
   "pygments_lexer": "ipython3",
   "version": "3.7.6"
  }
 },
 "nbformat": 4,
 "nbformat_minor": 4
}
