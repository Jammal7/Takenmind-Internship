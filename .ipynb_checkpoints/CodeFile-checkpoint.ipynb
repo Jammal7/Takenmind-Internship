{
 "cells": [
  {
   "cell_type": "code",
   "execution_count": 1,
   "metadata": {},
   "outputs": [],
   "source": [
    "import pandas as pd\n",
    "import numpy as np"
   ]
  },
  {
   "cell_type": "code",
   "execution_count": 2,
   "metadata": {},
   "outputs": [
    {
     "name": "stdout",
     "output_type": "stream",
     "text": [
      "   Unnamed: 0   OrderDate    Item  Units  Unit Cost   Total\n",
      "0           0  2019-01-06  Pencil     95       1.99  189.05\n",
      "1           1  2019-01-23  Binder     50      19.99  999.50\n",
      "2           2  2019-02-09  Pencil     36       4.99  179.64\n",
      "3           3  2019-02-26     Pen     27      19.99  539.73\n",
      "4           4  2019-03-15  Pencil     56       2.99  167.44\n",
      "5           5  2019-04-01  Binder     60       4.99  299.40\n",
      "6           6  2019-04-18  Pencil     75       1.99  149.25\n",
      "7           7  2019-05-05  Pencil     90       4.99  449.10\n",
      "8           8  2019-05-22  Pencil     32       1.99   63.68\n",
      "9           9  2019-06-08  Binder     60       8.99  539.40\n"
     ]
    }
   ],
   "source": [
    "excel = pd.ExcelFile('InputFile.xlsx')\n",
    "\n",
    "#read excel file\n",
    "df1 = pd.read_excel(excel,'Sheet1')\n",
    "#convert excel to csv\n",
    "df1.to_csv('csv1.csv',sep=',')\n",
    "csv1 = pd.read_csv('csv1.csv')\n",
    "print(csv1)"
   ]
  },
  {
   "cell_type": "code",
   "execution_count": 3,
   "metadata": {},
   "outputs": [
    {
     "name": "stdout",
     "output_type": "stream",
     "text": [
      "   Unnamed: 0  DEPTID  EMPID   NAME  BONUS\n",
      "0           0      10      1    ABC    500\n",
      "1           1      20      2    XYZ    500\n",
      "2           2      30      3    PQR    500\n",
      "3           3      40      4    STU    500\n",
      "4           4      50      5   DSDS    500\n",
      "5           5      60      6   CVSD    500\n",
      "6           6      70      7   DCSD    500\n",
      "7           7      80      8    DCX    500\n",
      "8           8      90      9  DSCSD    500\n",
      "9           9     100     10  SDCXC    500\n"
     ]
    }
   ],
   "source": [
    "#read excel file\n",
    "df2=pd.read_excel(excel,'Sheet2')\n",
    "#convert excel to csv\n",
    "df2.to_csv('csv2.csv',sep=',')\n",
    "csv2=pd.read_csv('csv2.csv')\n",
    "print(csv2)"
   ]
  },
  {
   "cell_type": "code",
   "execution_count": 4,
   "metadata": {},
   "outputs": [
    {
     "name": "stdout",
     "output_type": "stream",
     "text": [
      "   Unnamed: 0  Order ID  Order Date  Order Quantity      Sales  \\\n",
      "0           0         3       40464               6   261.5400   \n",
      "1           1         6       40959               2     6.9300   \n",
      "2           2        32       40739              26  2808.0800   \n",
      "3           3        32       40739              24  1761.4000   \n",
      "4           4        32       40739              23   160.2335   \n",
      "5           5        32       40739              15   140.5600   \n",
      "6           6        35       40838              30   288.5600   \n",
      "7           7        35       40838              14  1892.8480   \n",
      "8           8        36       40849              46  2484.7455   \n",
      "9           9        65       40619              32  3812.7300   \n",
      "\n",
      "        Ship Mode    Profit  Unit Price Customer Segment Product Category  \n",
      "0     Regular Air  -213.250       38.94   Small Business  Office Supplies  \n",
      "1     Regular Air    -4.640        2.08        Corporate  Office Supplies  \n",
      "2     Regular Air  1054.820      107.53        Corporate        Furniture  \n",
      "3  Delivery Truck -1748.560       70.89        Corporate        Furniture  \n",
      "4     Regular Air   -85.129        7.99        Corporate       Technology  \n",
      "5     Regular Air  -128.380        8.46        Corporate       Technology  \n",
      "6     Regular Air    60.720        9.11        Corporate  Office Supplies  \n",
      "7     Regular Air    48.987      155.99        Corporate       Technology  \n",
      "8     Regular Air   657.477       65.99      Home Office       Technology  \n",
      "9     Regular Air  1470.300      115.79        Corporate       Technology  \n"
     ]
    }
   ],
   "source": [
    "#read excel file\n",
    "df3=pd.read_excel(excel,'Sheet3')\n",
    "#convert excel to csv\n",
    "df3.to_csv('csv3.csv',sep=',')\n",
    "csv3=pd.read_csv('csv3.csv')\n",
    "print(csv3)"
   ]
  },
  {
   "cell_type": "code",
   "execution_count": 5,
   "metadata": {},
   "outputs": [
    {
     "name": "stdout",
     "output_type": "stream",
     "text": [
      "   Unnamed: 0   NAME  EMPID  SALARY\n",
      "0           0    ABC      1   10000\n",
      "1           1    XYZ      2   10000\n",
      "2           2    PQR      3   10000\n",
      "3           3    STU      4   10000\n",
      "4           4   DSDS      5   10000\n",
      "5           5   CVSD      6   10000\n",
      "6           6   DCSD      7   10000\n",
      "7           7    DCX      8   10000\n",
      "8           8  DSCSD      9   10000\n",
      "9           9  SDCXC     10   10000\n"
     ]
    }
   ],
   "source": [
    "#read excel file\n",
    "df4=pd.read_excel(excel,'Sheet4')\n",
    "#convert excel to csv\n",
    "df4.to_csv('csv4.csv',sep=',')\n",
    "csv4=pd.read_csv('csv4.csv')\n",
    "print(csv4)"
   ]
  },
  {
   "cell_type": "code",
   "execution_count": 6,
   "metadata": {},
   "outputs": [
    {
     "name": "stdout",
     "output_type": "stream",
     "text": [
      "   Unnamed: 0          Market  Retail value   Physical  Digital  \\\n",
      "0           0   United States         5916.1      0.15     0.75   \n",
      "1           1           Japan         2727.5      0.72     0.21   \n",
      "2           2         Germany         1323.1      0.43     0.36   \n",
      "3           3  United Kingdom         1310.7      0.30     0.50   \n",
      "4           4          France          925.1      0.36     0.34   \n",
      "5           5     South Korea          494.4      0.37     0.59   \n",
      "6           6          Canada          437.2      0.21     0.65   \n",
      "7           7       Australia          412.9      0.19     0.68   \n",
      "8           8          Brazil          295.8      0.05     0.60   \n",
      "9           9           China          292.3      0.03     0.90   \n",
      "\n",
      "   Performance Rights  Synchronization  \n",
      "0                0.07             0.03  \n",
      "1                0.05             0.01  \n",
      "2                0.20             0.01  \n",
      "3                0.18             0.02  \n",
      "4                0.27             0.03  \n",
      "5                0.04             0.00  \n",
      "6                0.14             0.01  \n",
      "7                0.11             0.02  \n",
      "8                0.34             0.00  \n",
      "9                0.07             0.00  \n"
     ]
    }
   ],
   "source": [
    "#read excel file\n",
    "df5=pd.read_excel(excel,'Sheet5')\n",
    "#convert excel to csv\n",
    "df5.to_csv('csv5.csv',sep=',')\n",
    "csv5=pd.read_csv('csv5.csv')\n",
    "print(csv5)"
   ]
  },
  {
   "cell_type": "code",
   "execution_count": 7,
   "metadata": {},
   "outputs": [
    {
     "name": "stdout",
     "output_type": "stream",
     "text": [
      "   Unnamed: 0   Season  Bayern  Real Madrid  Barcelona  MUN\n",
      "0           0  2001–02       1            6          2    3\n",
      "1           1  2002–03       2            4          5    1\n",
      "2           2  2003–04       1            2          4    3\n",
      "3           3  2004–05       2            1          5    3\n",
      "4           4  2005–06       4            1          3    2\n",
      "5           5  2006–07       4            2          3    1\n",
      "6           6  2007–08       3            2          4    1\n",
      "7           7  2008–09       4            3          2    1\n",
      "8           8  2009–10       3            1          7    2\n",
      "9           9  2010–11       2            5          0    3\n"
     ]
    }
   ],
   "source": [
    "#read excel file\n",
    "df6=pd.read_excel(excel,'Sheet6')\n",
    "#convert excel to csv\n",
    "df6.to_csv('csv6.csv',sep=',')\n",
    "csv6=pd.read_csv('csv6.csv')\n",
    "print(csv6)"
   ]
  },
  {
   "cell_type": "code",
   "execution_count": 8,
   "metadata": {},
   "outputs": [
    {
     "name": "stdout",
     "output_type": "stream",
     "text": [
      "    Unnamed: 0  No.   Season           Champion\n",
      "0            0    1  2009–10            Chelsea\n",
      "1            1    2  2010–11  Manchester United\n",
      "2            2    3  2011–12    Manchester City\n",
      "3            3    4  2012–13  Manchester United\n",
      "4            4    5  2013–14    Manchester City\n",
      "5            5    6  2014–15            Chelsea\n",
      "6            6    7  2015–16     Leicester City\n",
      "7            7    8  2016–17            Chelsea\n",
      "8            8    9  2017–18    Manchester City\n",
      "9            9   10  2018–19    Manchester City\n",
      "10          10   11  2019–20          Liverpool\n"
     ]
    }
   ],
   "source": [
    "#read excel file\n",
    "df7=pd.read_excel(excel,'Sheet7')\n",
    "#convert excel to csv\n",
    "df7.to_csv('csv7.csv',sep=',')\n",
    "csv7=pd.read_csv('csv7.csv')\n",
    "print(csv7)"
   ]
  },
  {
   "cell_type": "code",
   "execution_count": 9,
   "metadata": {},
   "outputs": [
    {
     "name": "stdout",
     "output_type": "stream",
     "text": [
      "   Unnamed: 0   OrderDate   Region      Rep     Item  Units  Unit Cost  \\\n",
      "0           0  2014-09-01  Central    Smith     Desk      2     125.00   \n",
      "1           1  2015-06-17  Central   Kivell     Desk      5     125.00   \n",
      "2           2  2015-09-10  Central     Gill   Pencil      7       1.29   \n",
      "3           3  2015-11-17  Central  Jardine   Binder     11       4.99   \n",
      "4           4  2015-10-31  Central  Andrews   Pencil     14       1.29   \n",
      "5           5  2014-02-26  Central     Gill      Pen     27      19.99   \n",
      "6           6  2014-10-05  Central   Morgan   Binder     28       8.99   \n",
      "7           7  2015-12-21  Central  Andrews   Binder     28       4.99   \n",
      "8           8  2014-02-09  Central  Jardine   Pencil     36       4.99   \n",
      "9           9  2015-08-07  Central   Kivell  Pen Set     42      23.95   \n",
      "\n",
      "     Total  \n",
      "0   250.00  \n",
      "1   625.00  \n",
      "2     9.03  \n",
      "3    54.89  \n",
      "4    18.06  \n",
      "5   539.73  \n",
      "6   251.72  \n",
      "7   139.72  \n",
      "8   179.64  \n",
      "9  1005.90  \n"
     ]
    }
   ],
   "source": [
    "#read excel file\n",
    "df8=pd.read_excel(excel,'Sheet8')\n",
    "#convert excel to csv\n",
    "df8.to_csv('csv8.csv',sep=',')\n",
    "csv8=pd.read_csv('csv8.csv')\n",
    "print(csv8)"
   ]
  },
  {
   "cell_type": "code",
   "execution_count": 10,
   "metadata": {},
   "outputs": [
    {
     "name": "stdout",
     "output_type": "stream",
     "text": [
      "   Unnamed: 0 First Name  Last Name  Gender        Country  Age        Date  \\\n",
      "0           0      Dulce      Abril  Female  United States   32  15/10/2017   \n",
      "1           1       Mara  Hashimoto  Female  Great Britain   25  16/08/2016   \n",
      "2           2     Philip       Gent    Male         France   36  21/05/2015   \n",
      "3           3   Kathleen     Hanner  Female  United States   25  15/10/2017   \n",
      "4           4    Nereida    Magwood  Female  United States   58  16/08/2016   \n",
      "5           5     Gaston      Brumm    Male  United States   24  21/05/2015   \n",
      "6           6       Etta       Hurn  Female  Great Britain   56  15/10/2017   \n",
      "7           7    Earlean     Melgar  Female  United States   27  16/08/2016   \n",
      "8           8   Vincenza    Weiland  Female  United States   40  21/05/2015   \n",
      "\n",
      "     Id  \n",
      "0  1562  \n",
      "1  1582  \n",
      "2  2587  \n",
      "3  3549  \n",
      "4  2468  \n",
      "5  2554  \n",
      "6  3598  \n",
      "7  2456  \n",
      "8  6548  \n"
     ]
    }
   ],
   "source": [
    "#read excel file\n",
    "df9=pd.read_excel(excel,'Sheet9')\n",
    "#convert excel to csv\n",
    "df9.to_csv('csv9.csv',sep=',')\n",
    "csv9=pd.read_csv('csv9.csv')\n",
    "print(csv9)"
   ]
  },
  {
   "cell_type": "code",
   "execution_count": 11,
   "metadata": {},
   "outputs": [
    {
     "name": "stdout",
     "output_type": "stream",
     "text": [
      "   Unnamed: 0   Date Sales Zone       Fruit  Quantity  UNIT Price\n",
      "0           0  40592      South  Strawberry        70         500\n",
      "1           1  40580      South       Lemon        45         250\n",
      "2           2  40565      North       Apple        62         100\n",
      "3           3  40562      North  Watermelon        78         300\n",
      "4           4  40665       East      Orange        55          50\n",
      "5           5  40641      North   Pineapple        70         250\n",
      "6           6  40650       East       Peach        60        1000\n",
      "7           7  40713      North      Carrot        35         200\n",
      "8           8  40612       East      Orange        59          50\n",
      "9           9  40579      South  Strawberry        59         500\n"
     ]
    }
   ],
   "source": [
    "#read excel file\n",
    "df10=pd.read_excel(excel,'Sheet10')\n",
    "#convert excel to csv\n",
    "df10.to_csv('csv10.csv',sep=',')\n",
    "csv10=pd.read_csv('csv10.csv')\n",
    "print(csv10)"
   ]
  },
  {
   "cell_type": "code",
   "execution_count": null,
   "metadata": {},
   "outputs": [],
   "source": []
  },
  {
   "cell_type": "code",
   "execution_count": null,
   "metadata": {},
   "outputs": [],
   "source": []
  }
 ],
 "metadata": {
  "kernelspec": {
   "display_name": "Python 3",
   "language": "python",
   "name": "python3"
  },
  "language_info": {
   "codemirror_mode": {
    "name": "ipython",
    "version": 3
   },
   "file_extension": ".py",
   "mimetype": "text/x-python",
   "name": "python",
   "nbconvert_exporter": "python",
   "pygments_lexer": "ipython3",
   "version": "3.7.6"
  }
 },
 "nbformat": 4,
 "nbformat_minor": 4
}
