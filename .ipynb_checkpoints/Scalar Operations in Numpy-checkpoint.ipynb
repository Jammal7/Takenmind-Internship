{
 "cells": [
  {
   "cell_type": "code",
   "execution_count": 1,
   "metadata": {},
   "outputs": [],
   "source": [
    "import numpy as np"
   ]
  },
  {
   "cell_type": "code",
   "execution_count": 5,
   "metadata": {},
   "outputs": [
    {
     "name": "stdout",
     "output_type": "stream",
     "text": [
      "[[ 1  4  9]\n",
      " [25 36 49]]\n"
     ]
    }
   ],
   "source": [
    "#scalar array multiplication - using * operator\n",
    "arr1 = np.array([[1,2,3],[5,6,7]])\n",
    "#print(arr1)\n",
    "arr2 = arr1 * arr1\n",
    "print(arr2)"
   ]
  },
  {
   "cell_type": "code",
   "execution_count": 7,
   "metadata": {},
   "outputs": [
    {
     "name": "stdout",
     "output_type": "stream",
     "text": [
      "[[  1   8  27]\n",
      " [125 216 343]]\n"
     ]
    }
   ],
   "source": [
    "#exponential multiplication - using ** operator\n",
    "arr3 = arr1 ** 3\n",
    "print(arr3)"
   ]
  },
  {
   "cell_type": "code",
   "execution_count": 8,
   "metadata": {},
   "outputs": [
    {
     "name": "stdout",
     "output_type": "stream",
     "text": [
      "[[  0   6  24]\n",
      " [120 210 336]]\n"
     ]
    }
   ],
   "source": [
    "#scalar subtraction of Array elements\n",
    "arr4 = arr3 - arr1\n",
    "print(arr4)"
   ]
  },
  {
   "cell_type": "code",
   "execution_count": 9,
   "metadata": {},
   "outputs": [
    {
     "name": "stdout",
     "output_type": "stream",
     "text": [
      "[[1.         0.5        0.33333333]\n",
      " [0.2        0.16666667 0.14285714]]\n"
     ]
    }
   ],
   "source": [
    "#scalar division of array elements\n",
    "\n",
    "arr5 = 1 / arr1\n",
    "print(arr5)"
   ]
  },
  {
   "cell_type": "code",
   "execution_count": null,
   "metadata": {},
   "outputs": [],
   "source": []
  }
 ],
 "metadata": {
  "kernelspec": {
   "display_name": "Python 3",
   "language": "python",
   "name": "python3"
  },
  "language_info": {
   "codemirror_mode": {
    "name": "ipython",
    "version": 3
   },
   "file_extension": ".py",
   "mimetype": "text/x-python",
   "name": "python",
   "nbconvert_exporter": "python",
   "pygments_lexer": "ipython3",
   "version": "3.7.6"
  }
 },
 "nbformat": 4,
 "nbformat_minor": 4
}
