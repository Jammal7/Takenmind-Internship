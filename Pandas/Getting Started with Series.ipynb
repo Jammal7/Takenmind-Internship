{
 "cells": [
  {
   "cell_type": "code",
   "execution_count": 5,
   "metadata": {},
   "outputs": [],
   "source": [
    "import numpy as np\n",
    "import pandas as pd"
   ]
  },
  {
   "cell_type": "code",
   "execution_count": 2,
   "metadata": {},
   "outputs": [],
   "source": [
    "#What is pandas- Pandas is a fast,powerful, flexible and easy \n",
    "#to use open source data analysis and high level data \n",
    "#manipulation tool provided by the developers of python which is\n",
    "#built on the numpy library and extends it functionality. It\n",
    "#provides us with 2 key data structures which are called\n",
    "#1. Series\n",
    "#2. Dataframes\n",
    "\n",
    "#1. Series- Its a 1-D data array which is capable of holding any\n",
    "#type of data"
   ]
  },
  {
   "cell_type": "code",
   "execution_count": 11,
   "metadata": {},
   "outputs": [
    {
     "name": "stdout",
     "output_type": "stream",
     "text": [
      "0    20\n",
      "1    30\n",
      "2    15\n",
      "3    20\n",
      "dtype: int64\n",
      "\n",
      "Getting only the elements: [20 30 15 20]\n",
      "\n",
      "Range Index: RangeIndex(start=0, stop=4, step=1)\n",
      "\n",
      "Actual Range index values: [0 1 2 3]\n"
     ]
    }
   ],
   "source": [
    "#Create a simple series variable\n",
    "s1 = pd.Series([20,30,15,20])\n",
    "print(s1)\n",
    "print()\n",
    "print('Getting only the elements:',s1.values)\n",
    "print()\n",
    "print('Range Index:', s1.index)\n",
    "print()\n",
    "print('Actual Range index values:', s1.index.values)"
   ]
  },
  {
   "cell_type": "code",
   "execution_count": 16,
   "metadata": {},
   "outputs": [
    {
     "name": "stdout",
     "output_type": "stream",
     "text": [
      "Revenue Array: [200 300 400 500]\n",
      "\n",
      "Converting the revenue array to series:\n",
      " 0    200\n",
      "1    300\n",
      "2    400\n",
      "3    500\n",
      "dtype: int32\n"
     ]
    }
   ],
   "source": [
    "#create Series from numpy\n",
    "revenue_array = np.array([200,300,400,500])\n",
    "print('Revenue Array:', revenue_array)\n",
    "print()\n",
    "revenue_series = pd.Series(revenue_array)\n",
    "print('Converting the revenue array to series:\\n',revenue_series)"
   ]
  },
  {
   "cell_type": "code",
   "execution_count": 17,
   "metadata": {},
   "outputs": [
    {
     "name": "stdout",
     "output_type": "stream",
     "text": [
      "Uber      200\n",
      "Taxify    300\n",
      "lyft      400\n",
      "ola       500\n",
      "dtype: int32\n"
     ]
    }
   ],
   "source": [
    "#create series with custom index\n",
    "\n",
    "revenue = pd.Series(revenue_array, index=['Uber', 'Taxify', 'lyft', 'ola'])\n",
    "print(revenue)"
   ]
  },
  {
   "cell_type": "code",
   "execution_count": 18,
   "metadata": {},
   "outputs": [
    {
     "data": {
      "text/plain": [
       "500"
      ]
     },
     "execution_count": 18,
     "metadata": {},
     "output_type": "execute_result"
    }
   ],
   "source": [
    "#Accessing the element with the series\n",
    "revenue['ola']"
   ]
  },
  {
   "cell_type": "code",
   "execution_count": 19,
   "metadata": {},
   "outputs": [
    {
     "name": "stdout",
     "output_type": "stream",
     "text": [
      "Taxify    300\n",
      "lyft      400\n",
      "ola       500\n",
      "dtype: int32\n"
     ]
    }
   ],
   "source": [
    "#filter a series base on conditions\n",
    "print(revenue[revenue > 250])"
   ]
  },
  {
   "cell_type": "code",
   "execution_count": 23,
   "metadata": {},
   "outputs": [
    {
     "name": "stdout",
     "output_type": "stream",
     "text": [
      "True\n"
     ]
    }
   ],
   "source": [
    "#check whether an element is in a series\n",
    "print('ola' in revenue)"
   ]
  },
  {
   "cell_type": "code",
   "execution_count": 24,
   "metadata": {},
   "outputs": [
    {
     "name": "stdout",
     "output_type": "stream",
     "text": [
      "False\n"
     ]
    }
   ],
   "source": [
    "print('uber' in revenue)"
   ]
  },
  {
   "cell_type": "code",
   "execution_count": 25,
   "metadata": {},
   "outputs": [
    {
     "name": "stdout",
     "output_type": "stream",
     "text": [
      "{'Uber': 200, 'Taxify': 300, 'lyft': 400, 'ola': 500}\n"
     ]
    }
   ],
   "source": [
    "#to_dict function - use a series to create a dictionary\n",
    "\n",
    "revenue_dict = revenue.to_dict()\n",
    "print(revenue_dict)"
   ]
  },
  {
   "cell_type": "code",
   "execution_count": 27,
   "metadata": {},
   "outputs": [
    {
     "name": "stdout",
     "output_type": "stream",
     "text": [
      "Uber      200\n",
      "Taxify    300\n",
      "lyft      400\n",
      "ola       500\n",
      "dtype: int32\n",
      "\n",
      "Uber       400\n",
      "Taxify     600\n",
      "lyft       800\n",
      "ola       1000\n",
      "dtype: int32\n"
     ]
    }
   ],
   "source": [
    "#Addition of 2 series\n",
    "print(revenue)\n",
    "print()\n",
    "print(revenue + revenue)"
   ]
  },
  {
   "cell_type": "code",
   "execution_count": 30,
   "metadata": {},
   "outputs": [
    {
     "name": "stdout",
     "output_type": "stream",
     "text": [
      "Company Name\n",
      "Uber      200\n",
      "Taxify    300\n",
      "lyft      400\n",
      "ola       500\n",
      "Name: Company - Revenue, dtype: int32\n"
     ]
    }
   ],
   "source": [
    "#Assign name to a series and its indexes\n",
    "revenue.name = 'Company - Revenue'\n",
    "revenue.index.name = 'Company Name'\n",
    "print(revenue)"
   ]
  },
  {
   "cell_type": "code",
   "execution_count": null,
   "metadata": {},
   "outputs": [],
   "source": []
  }
 ],
 "metadata": {
  "kernelspec": {
   "display_name": "Python 3",
   "language": "python",
   "name": "python3"
  },
  "language_info": {
   "codemirror_mode": {
    "name": "ipython",
    "version": 3
   },
   "file_extension": ".py",
   "mimetype": "text/x-python",
   "name": "python",
   "nbconvert_exporter": "python",
   "pygments_lexer": "ipython3",
   "version": "3.7.6"
  }
 },
 "nbformat": 4,
 "nbformat_minor": 4
}
