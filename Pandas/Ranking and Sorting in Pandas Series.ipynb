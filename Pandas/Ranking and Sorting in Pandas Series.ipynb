{
 "cells": [
  {
   "cell_type": "code",
   "execution_count": 1,
   "metadata": {},
   "outputs": [],
   "source": [
    "import pandas as pd\n",
    "import numpy as np"
   ]
  },
  {
   "cell_type": "code",
   "execution_count": 4,
   "metadata": {},
   "outputs": [
    {
     "name": "stdout",
     "output_type": "stream",
     "text": [
      "a    200\n",
      "c    400\n",
      "b    800\n",
      "g    600\n",
      "e    500\n",
      "d    300\n",
      "f    100\n",
      "dtype: int64\n"
     ]
    }
   ],
   "source": [
    "series1 = pd.Series([200,400,800,600,500,300,100], index=['a','c','b','g','e','d','f'])\n",
    "print(series1)"
   ]
  },
  {
   "cell_type": "code",
   "execution_count": 5,
   "metadata": {},
   "outputs": [
    {
     "data": {
      "text/plain": [
       "a    200\n",
       "b    800\n",
       "c    400\n",
       "d    300\n",
       "e    500\n",
       "f    100\n",
       "g    600\n",
       "dtype: int64"
      ]
     },
     "execution_count": 5,
     "metadata": {},
     "output_type": "execute_result"
    }
   ],
   "source": [
    "#sorting by Index\n",
    "series1.sort_index()"
   ]
  },
  {
   "cell_type": "code",
   "execution_count": 6,
   "metadata": {},
   "outputs": [
    {
     "data": {
      "text/plain": [
       "f    100\n",
       "a    200\n",
       "d    300\n",
       "c    400\n",
       "e    500\n",
       "g    600\n",
       "b    800\n",
       "dtype: int64"
      ]
     },
     "execution_count": 6,
     "metadata": {},
     "output_type": "execute_result"
    }
   ],
   "source": [
    "#sorting by values\n",
    "series1.sort_values()"
   ]
  },
  {
   "cell_type": "code",
   "execution_count": 8,
   "metadata": {},
   "outputs": [
    {
     "name": "stdout",
     "output_type": "stream",
     "text": [
      "0    14\n",
      "1     8\n",
      "2    16\n",
      "3    18\n",
      "4    12\n",
      "5    10\n",
      "dtype: int64\n"
     ]
    }
   ],
   "source": [
    "ser2 = pd.Series([14,8,16,18,12,10])\n",
    "print(ser2)"
   ]
  },
  {
   "cell_type": "code",
   "execution_count": 9,
   "metadata": {},
   "outputs": [
    {
     "data": {
      "text/plain": [
       "0    4.0\n",
       "1    1.0\n",
       "2    5.0\n",
       "3    6.0\n",
       "4    3.0\n",
       "5    2.0\n",
       "dtype: float64"
      ]
     },
     "execution_count": 9,
     "metadata": {},
     "output_type": "execute_result"
    }
   ],
   "source": [
    "#Ranking of a series\n",
    "ser2.rank()"
   ]
  },
  {
   "cell_type": "code",
   "execution_count": 11,
   "metadata": {},
   "outputs": [
    {
     "name": "stdout",
     "output_type": "stream",
     "text": [
      "0    4.0\n",
      "1    1.0\n",
      "2    5.0\n",
      "3    6.0\n",
      "4    3.0\n",
      "5    2.0\n",
      "dtype: float64\n",
      "\n",
      "1    1.0\n",
      "5    2.0\n",
      "4    3.0\n",
      "0    4.0\n",
      "2    5.0\n",
      "3    6.0\n",
      "dtype: float64\n"
     ]
    }
   ],
   "source": [
    "#interesting fact abt sorting using ranking functions\n",
    "print(ser2.rank())\n",
    "\n",
    "ser2= ser2.sort_values()\n",
    "print()\n",
    "print(ser2.rank())"
   ]
  },
  {
   "cell_type": "code",
   "execution_count": null,
   "metadata": {},
   "outputs": [],
   "source": []
  }
 ],
 "metadata": {
  "kernelspec": {
   "display_name": "Python 3",
   "language": "python",
   "name": "python3"
  },
  "language_info": {
   "codemirror_mode": {
    "name": "ipython",
    "version": 3
   },
   "file_extension": ".py",
   "mimetype": "text/x-python",
   "name": "python",
   "nbconvert_exporter": "python",
   "pygments_lexer": "ipython3",
   "version": "3.7.6"
  }
 },
 "nbformat": 4,
 "nbformat_minor": 4
}
