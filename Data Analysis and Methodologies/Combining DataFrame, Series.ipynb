{
 "cells": [
  {
   "cell_type": "code",
   "execution_count": 1,
   "metadata": {},
   "outputs": [],
   "source": [
    "import pandas as pd\n",
    "import numpy as np"
   ]
  },
  {
   "cell_type": "code",
   "execution_count": 2,
   "metadata": {},
   "outputs": [
    {
     "name": "stdout",
     "output_type": "stream",
     "text": [
      "A    5.0\n",
      "B    NaN\n",
      "C    6.0\n",
      "D    NaN\n",
      "dtype: float64\n"
     ]
    }
   ],
   "source": [
    "s1 = pd.Series([5,np.nan,6,np.nan], index=list('ABCD'))\n",
    "print(s1)"
   ]
  },
  {
   "cell_type": "code",
   "execution_count": 3,
   "metadata": {},
   "outputs": [
    {
     "name": "stdout",
     "output_type": "stream",
     "text": [
      "A    0\n",
      "B    1\n",
      "C    2\n",
      "D    3\n",
      "dtype: int32\n"
     ]
    }
   ],
   "source": [
    "s2 = pd.Series(np.arange(4), index=list('ABCD'))\n",
    "print(s2)"
   ]
  },
  {
   "cell_type": "code",
   "execution_count": 4,
   "metadata": {},
   "outputs": [
    {
     "name": "stdout",
     "output_type": "stream",
     "text": [
      "A    5.0\n",
      "B    1.0\n",
      "C    6.0\n",
      "D    3.0\n",
      "dtype: float64\n"
     ]
    }
   ],
   "source": [
    "s3 = pd.Series(np.where(pd.isnull(s1),s2,s1), index=s1.index)\n",
    "print(s3)"
   ]
  },
  {
   "cell_type": "code",
   "execution_count": 5,
   "metadata": {},
   "outputs": [
    {
     "name": "stdout",
     "output_type": "stream",
     "text": [
      "A    5.0\n",
      "B    1.0\n",
      "C    6.0\n",
      "D    3.0\n",
      "dtype: float64\n"
     ]
    }
   ],
   "source": [
    "s4 = s1.combine_first(s2)\n",
    "print(s4)"
   ]
  },
  {
   "cell_type": "code",
   "execution_count": 6,
   "metadata": {},
   "outputs": [
    {
     "name": "stdout",
     "output_type": "stream",
     "text": [
      "   col1  col2  col3\n",
      "0   5.0  20.0   NaN\n",
      "1   NaN  25.0   NaN\n",
      "2  15.0   NaN  25.0\n"
     ]
    }
   ],
   "source": [
    "#Combining 2 Dataframe\n",
    "\n",
    "df1 = pd.DataFrame({\n",
    "    'col1': [5,np.nan,15],\n",
    "    'col2': [20,25,np.nan],\n",
    "    'col3': [np.nan, np.nan, 25]\n",
    "})\n",
    "print(df1)"
   ]
  },
  {
   "cell_type": "code",
   "execution_count": 7,
   "metadata": {},
   "outputs": [
    {
     "name": "stdout",
     "output_type": "stream",
     "text": [
      "   col1  col2\n",
      "0    10    30\n",
      "1    20    40\n",
      "2    30    50\n"
     ]
    }
   ],
   "source": [
    "df2 = pd.DataFrame({\n",
    "    'col1': [10,20,30],\n",
    "    'col2': [30,40,50]\n",
    "})\n",
    "print(df2)"
   ]
  },
  {
   "cell_type": "code",
   "execution_count": 8,
   "metadata": {},
   "outputs": [
    {
     "data": {
      "text/html": [
       "<div>\n",
       "<style scoped>\n",
       "    .dataframe tbody tr th:only-of-type {\n",
       "        vertical-align: middle;\n",
       "    }\n",
       "\n",
       "    .dataframe tbody tr th {\n",
       "        vertical-align: top;\n",
       "    }\n",
       "\n",
       "    .dataframe thead th {\n",
       "        text-align: right;\n",
       "    }\n",
       "</style>\n",
       "<table border=\"1\" class=\"dataframe\">\n",
       "  <thead>\n",
       "    <tr style=\"text-align: right;\">\n",
       "      <th></th>\n",
       "      <th>col1</th>\n",
       "      <th>col2</th>\n",
       "      <th>col3</th>\n",
       "    </tr>\n",
       "  </thead>\n",
       "  <tbody>\n",
       "    <tr>\n",
       "      <th>0</th>\n",
       "      <td>5.0</td>\n",
       "      <td>20.0</td>\n",
       "      <td>NaN</td>\n",
       "    </tr>\n",
       "    <tr>\n",
       "      <th>1</th>\n",
       "      <td>20.0</td>\n",
       "      <td>25.0</td>\n",
       "      <td>NaN</td>\n",
       "    </tr>\n",
       "    <tr>\n",
       "      <th>2</th>\n",
       "      <td>15.0</td>\n",
       "      <td>50.0</td>\n",
       "      <td>25.0</td>\n",
       "    </tr>\n",
       "  </tbody>\n",
       "</table>\n",
       "</div>"
      ],
      "text/plain": [
       "   col1  col2  col3\n",
       "0   5.0  20.0   NaN\n",
       "1  20.0  25.0   NaN\n",
       "2  15.0  50.0  25.0"
      ]
     },
     "execution_count": 8,
     "metadata": {},
     "output_type": "execute_result"
    }
   ],
   "source": [
    "df1.combine_first(df2)"
   ]
  },
  {
   "cell_type": "markdown",
   "metadata": {},
   "source": [
    "## Reshaping Datasets - stack and unstack"
   ]
  },
  {
   "cell_type": "code",
   "execution_count": 9,
   "metadata": {},
   "outputs": [
    {
     "name": "stdout",
     "output_type": "stream",
     "text": [
      "attributes  A  B  C  D\n",
      "countries             \n",
      "America     0  1  2  3\n",
      "China       4  5  6  7\n"
     ]
    }
   ],
   "source": [
    "df = pd.DataFrame(np.arange(8).reshape(2,4), index=pd.Index(['America','China']\n",
    "                    ,name='countries'),columns=pd.Index(list('ABCD'),name='attributes'))\n",
    "print(df)"
   ]
  },
  {
   "cell_type": "code",
   "execution_count": 10,
   "metadata": {},
   "outputs": [
    {
     "name": "stdout",
     "output_type": "stream",
     "text": [
      "countries  attributes\n",
      "America    A             0\n",
      "           B             1\n",
      "           C             2\n",
      "           D             3\n",
      "China      A             4\n",
      "           B             5\n",
      "           C             6\n",
      "           D             7\n",
      "dtype: int32\n"
     ]
    }
   ],
   "source": [
    "#stacking and unstaking DataFrames\n",
    "stackdf = df.stack()\n",
    "print(stackdf)"
   ]
  },
  {
   "cell_type": "code",
   "execution_count": 11,
   "metadata": {},
   "outputs": [
    {
     "name": "stdout",
     "output_type": "stream",
     "text": [
      "attributes  A  B  C  D\n",
      "countries             \n",
      "America     0  1  2  3\n",
      "China       4  5  6  7\n"
     ]
    }
   ],
   "source": [
    "unstackdf = stackdf.unstack()\n",
    "print(unstackdf)"
   ]
  },
  {
   "cell_type": "code",
   "execution_count": 12,
   "metadata": {},
   "outputs": [
    {
     "name": "stdout",
     "output_type": "stream",
     "text": [
      "countries   America  China\n",
      "attributes                \n",
      "A                 0      4\n",
      "B                 1      5\n",
      "C                 2      6\n",
      "D                 3      7\n"
     ]
    }
   ],
   "source": [
    "#unstack along column or index\n",
    "\n",
    "df2 = stackdf.unstack('countries')\n",
    "print(df2)"
   ]
  },
  {
   "cell_type": "code",
   "execution_count": 13,
   "metadata": {},
   "outputs": [
    {
     "name": "stdout",
     "output_type": "stream",
     "text": [
      "attributes  A  B  C  D\n",
      "countries             \n",
      "America     0  1  2  3\n",
      "China       4  5  6  7\n"
     ]
    }
   ],
   "source": [
    "df3 = stackdf.unstack('attributes')\n",
    "print(df3)"
   ]
  },
  {
   "cell_type": "code",
   "execution_count": 14,
   "metadata": {},
   "outputs": [
    {
     "name": "stdout",
     "output_type": "stream",
     "text": [
      "A     5\n",
      "B    10\n",
      "C    15\n",
      "dtype: int64\n"
     ]
    }
   ],
   "source": [
    "#stacking and unstacking series\n",
    "s1 = pd.Series([5,10,15], index=list('ABC'))\n",
    "s2 = pd.Series([20,25,30],index=list('BCD'))\n",
    "print(s1)"
   ]
  },
  {
   "cell_type": "code",
   "execution_count": 15,
   "metadata": {},
   "outputs": [
    {
     "name": "stdout",
     "output_type": "stream",
     "text": [
      "B    20\n",
      "C    25\n",
      "D    30\n",
      "dtype: int64\n"
     ]
    }
   ],
   "source": [
    "print(s2)"
   ]
  },
  {
   "cell_type": "code",
   "execution_count": 16,
   "metadata": {},
   "outputs": [
    {
     "name": "stdout",
     "output_type": "stream",
     "text": [
      "k1  A     5\n",
      "    B    10\n",
      "    C    15\n",
      "k2  B    20\n",
      "    C    25\n",
      "    D    30\n",
      "dtype: int64\n"
     ]
    }
   ],
   "source": [
    "s3 = pd.concat([s1,s2], keys=['k1', 'k2'])\n",
    "print(s3)"
   ]
  },
  {
   "cell_type": "code",
   "execution_count": 17,
   "metadata": {},
   "outputs": [
    {
     "name": "stdout",
     "output_type": "stream",
     "text": [
      "      A     B     C     D\n",
      "k1  5.0  10.0  15.0   NaN\n",
      "k2  NaN  20.0  25.0  30.0\n"
     ]
    }
   ],
   "source": [
    "df_series = s3.unstack()\n",
    "print(df_series)"
   ]
  },
  {
   "cell_type": "code",
   "execution_count": 18,
   "metadata": {},
   "outputs": [
    {
     "data": {
      "text/plain": [
       "k1  A     5.0\n",
       "    B    10.0\n",
       "    C    15.0\n",
       "k2  B    20.0\n",
       "    C    25.0\n",
       "    D    30.0\n",
       "dtype: float64"
      ]
     },
     "execution_count": 18,
     "metadata": {},
     "output_type": "execute_result"
    }
   ],
   "source": [
    "df_series.stack()"
   ]
  },
  {
   "cell_type": "code",
   "execution_count": 19,
   "metadata": {},
   "outputs": [
    {
     "data": {
      "text/plain": [
       "k1  A     5.0\n",
       "    B    10.0\n",
       "    C    15.0\n",
       "    D     NaN\n",
       "k2  A     NaN\n",
       "    B    20.0\n",
       "    C    25.0\n",
       "    D    30.0\n",
       "dtype: float64"
      ]
     },
     "execution_count": 19,
     "metadata": {},
     "output_type": "execute_result"
    }
   ],
   "source": [
    "df_series.stack(dropna=False)"
   ]
  },
  {
   "cell_type": "code",
   "execution_count": null,
   "metadata": {},
   "outputs": [],
   "source": []
  }
 ],
 "metadata": {
  "kernelspec": {
   "display_name": "Python 3",
   "language": "python",
   "name": "python3"
  },
  "language_info": {
   "codemirror_mode": {
    "name": "ipython",
    "version": 3
   },
   "file_extension": ".py",
   "mimetype": "text/x-python",
   "name": "python",
   "nbconvert_exporter": "python",
   "pygments_lexer": "ipython3",
   "version": "3.7.6"
  }
 },
 "nbformat": 4,
 "nbformat_minor": 4
}
