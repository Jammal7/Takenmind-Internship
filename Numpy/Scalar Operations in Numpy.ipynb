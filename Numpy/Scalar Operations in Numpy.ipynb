{
 "cells": [
  {
   "cell_type": "code",
   "execution_count": 1,
   "metadata": {},
   "outputs": [],
   "source": [
    "import numpy as np"
   ]
  },
  {
   "cell_type": "code",
   "execution_count": 8,
   "metadata": {},
   "outputs": [],
   "source": [
    "#scalar array multiplication - using * operator\n",
    "arr1 = np.array([[1,2,3],[5,6,7]])\n",
    "arr2 = arr1 * arr1\n",
    "print('Scalar array Multiplication')\n",
    "print(arr2)\n",
    "print()\n",
    "\n",
    "#exponential multiplication - using ** operator\n",
    "arr3 = arr1 ** 3\n",
    "print('Exponential Multiplication')\n",
    "print(arr3)\n",
    "print()\n",
    "\n",
    "#scalar subtraction of Array elements\n",
    "arr4 = arr3 - arr1\n",
    "print('Scalar Subtraction')\n",
    "print(arr4)\n",
    "print()\n",
    "\n",
    "#scalar division of array elements\n",
    "arr5 = 1 / arr1\n",
    "print('Scalar division')\n",
    "print(arr5)"
   ]
  },
  {
   "cell_type": "code",
   "execution_count": 9,
   "metadata": {},
   "outputs": [
    {
     "name": "stdout",
     "output_type": "stream",
     "text": [
      "Scalar array Multiplication\n",
      "[[ 1  4  9]\n",
      " [25 36 49]]\n",
      "\n",
      "Exponential Multiplication\n",
      "[[  1   8  27]\n",
      " [125 216 343]]\n",
      "\n",
      "Scalar Subtraction\n",
      "[[  0   6  24]\n",
      " [120 210 336]]\n",
      "\n",
      "Scalar division\n",
      "[[1.         0.5        0.33333333]\n",
      " [0.2        0.16666667 0.14285714]]\n"
     ]
    }
   ],
   "source": [
    "\n",
    "\n",
    "\n"
   ]
  },
  {
   "cell_type": "code",
   "execution_count": null,
   "metadata": {},
   "outputs": [],
   "source": []
  }
 ],
 "metadata": {
  "kernelspec": {
   "display_name": "Python 3",
   "language": "python",
   "name": "python3"
  },
  "language_info": {
   "codemirror_mode": {
    "name": "ipython",
    "version": 3
   },
   "file_extension": ".py",
   "mimetype": "text/x-python",
   "name": "python",
   "nbconvert_exporter": "python",
   "pygments_lexer": "ipython3",
   "version": "3.7.6"
  }
 },
 "nbformat": 4,
 "nbformat_minor": 4
}
