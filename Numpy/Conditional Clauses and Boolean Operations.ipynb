{
 "cells": [
  {
   "cell_type": "code",
   "execution_count": 1,
   "metadata": {},
   "outputs": [],
   "source": [
    "import numpy as np"
   ]
  },
  {
   "cell_type": "code",
   "execution_count": 2,
   "metadata": {},
   "outputs": [
    {
     "name": "stdout",
     "output_type": "stream",
     "text": [
      "[100, 400, 20, 25]\n"
     ]
    }
   ],
   "source": [
    "#using conditional values and statement\n",
    "x = np.array([100,400,-50,-40]) #each element a\n",
    "y = np.array([10,15, 20,25]) #each element b\n",
    "condition = np.array([True, True, False, False]) #each element cond\n",
    "\n",
    "#Using loop to compare values of x,y and conditons\n",
    "# if true take x else y. True for x  and False for Y and print\n",
    "z = [a if cond else b for a, cond, b in zip(x, condition, y)]\n",
    "print(z)\n"
   ]
  },
  {
   "cell_type": "code",
   "execution_count": 3,
   "metadata": {},
   "outputs": [
    {
     "name": "stdout",
     "output_type": "stream",
     "text": [
      "[100 400  20  25]\n"
     ]
    }
   ],
   "source": [
    "#np.where(condition, values for true, value for false)\n",
    "z2 = np.where(condition, x, y)\n",
    "print(z2)"
   ]
  },
  {
   "cell_type": "code",
   "execution_count": 4,
   "metadata": {},
   "outputs": [
    {
     "name": "stdout",
     "output_type": "stream",
     "text": [
      "[  1   1 -50 -40]\n"
     ]
    }
   ],
   "source": [
    "#condition to be logical statement of each array\n",
    "z3 = np.where(x>0, 1,x) #if x > 0 replace it with 1 else value in the x array\n",
    "print(z3)"
   ]
  },
  {
   "cell_type": "code",
   "execution_count": 5,
   "metadata": {},
   "outputs": [
    {
     "name": "stdout",
     "output_type": "stream",
     "text": [
      "The Total sum of x array is: 410\n",
      "\n",
      "Mean of x array is: 102.5\n",
      "\n",
      "Standard deviation of x is: 181.71062159378576\n",
      "\n",
      "Variance of x is: 33018.75\n"
     ]
    }
   ],
   "source": [
    "#standard functions in numpy - sum, sum(0), mean(), std(), var()\n",
    "\n",
    "#sum\n",
    "print('The Total sum of x array is:', x.sum())\n",
    "print()\n",
    "#mean\n",
    "print('Mean of x array is:', x.mean())\n",
    "print()\n",
    "#Standard Deviation\n",
    "print('Standard deviation of x is:', x.std())\n",
    "print()\n",
    "#Variance\n",
    "print('Variance of x is:', x.var())"
   ]
  },
  {
   "cell_type": "code",
   "execution_count": 6,
   "metadata": {},
   "outputs": [
    {
     "name": "stdout",
     "output_type": "stream",
     "text": [
      "Sum of rows: [4 6]\n"
     ]
    }
   ],
   "source": [
    "x2 = np.array([[1,2], [3,4]])\n",
    "#row sum\n",
    "print('Sum of rows:',x2.sum(0))"
   ]
  },
  {
   "cell_type": "code",
   "execution_count": 11,
   "metadata": {},
   "outputs": [
    {
     "name": "stdout",
     "output_type": "stream",
     "text": [
      "Using the OR logical Operation: True\n",
      "\n",
      "Using the AND logical Operation: False\n",
      "\n",
      "Before we sort: [ 1  5 10  6  4  3]\n",
      "\n",
      "After using the sort function: [ 1  3  4  5  6 10]\n",
      "\n",
      "The Unique element are: ['gas' 'liquid' 'solid']\n",
      "\n",
      "[ True  True False]\n"
     ]
    }
   ],
   "source": [
    "#logical And, OR operation - any(), all()\n",
    "cond2 = np.array([True, False, True])\n",
    "\n",
    "#OR\n",
    "print('Using the OR logical Operation:',cond2.any())\n",
    "print()\n",
    "\n",
    "#And\n",
    "print('Using the AND logical Operation:',cond2.all())\n",
    "print()\n",
    "\n",
    "#sort() function\n",
    "unsorted = np.array([1,5,10,6,4,3])\n",
    "print('Before we sort:',unsorted)\n",
    "print()\n",
    "unsorted.sort()\n",
    "print('After using the sort function:',unsorted)\n",
    "print()\n",
    "\n",
    "#unique() - This function returns an array of unique elements in the input array\n",
    "arr2 = np.array(['liquid', 'liquid', 'liquid', 'gas', 'gas', 'solid', 'solid'])\n",
    "print('The Unique element are:', np.unique(arr2))\n",
    "print()\n",
    "\n",
    "#in1d() - Its use to check whether the list of element is present in an array or not\n",
    "print(np.in1d(['solid', 'liquid', 'plasma'], arr2))"
   ]
  },
  {
   "cell_type": "code",
   "execution_count": 8,
   "metadata": {},
   "outputs": [
    {
     "name": "stdout",
     "output_type": "stream",
     "text": [
      "Before we sort: [ 1  5 10  6  4  3]\n",
      "\n",
      "After using the sort function: [ 1  3  4  5  6 10]\n"
     ]
    }
   ],
   "source": [
    "#sort() function\n",
    "unsorted = np.array([1,5,10,6,4,3])\n",
    "print('Before we sort:',unsorted)\n",
    "print()\n",
    "unsorted.sort()\n",
    "print('After using the sort function:',unsorted)"
   ]
  },
  {
   "cell_type": "code",
   "execution_count": 9,
   "metadata": {},
   "outputs": [
    {
     "name": "stdout",
     "output_type": "stream",
     "text": [
      "['gas' 'liquid' 'solid']\n"
     ]
    }
   ],
   "source": [
    "#unique()\n",
    "arr2 = np.array(['liquid', 'liquid', 'liquid', 'gas', 'gas', 'solid', 'solid'])\n",
    "print(np.unique(arr2))"
   ]
  },
  {
   "cell_type": "code",
   "execution_count": 10,
   "metadata": {},
   "outputs": [
    {
     "name": "stdout",
     "output_type": "stream",
     "text": [
      "[ True  True False]\n"
     ]
    }
   ],
   "source": [
    "#in1d() -Its use to check whether the list of element is present in an array or not\n",
    "print(np.in1d(['solid', 'liquid', 'plasma'], arr2))"
   ]
  },
  {
   "cell_type": "code",
   "execution_count": null,
   "metadata": {},
   "outputs": [],
   "source": []
  }
 ],
 "metadata": {
  "kernelspec": {
   "display_name": "Python 3",
   "language": "python",
   "name": "python3"
  },
  "language_info": {
   "codemirror_mode": {
    "name": "ipython",
    "version": 3
   },
   "file_extension": ".py",
   "mimetype": "text/x-python",
   "name": "python",
   "nbconvert_exporter": "python",
   "pygments_lexer": "ipython3",
   "version": "3.7.6"
  }
 },
 "nbformat": 4,
 "nbformat_minor": 4
}
