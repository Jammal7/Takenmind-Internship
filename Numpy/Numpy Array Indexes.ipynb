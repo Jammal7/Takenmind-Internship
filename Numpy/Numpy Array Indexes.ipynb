{
 "cells": [
  {
   "cell_type": "code",
   "execution_count": 1,
   "metadata": {},
   "outputs": [],
   "source": [
    "#importing Numpy liberary and naming as np to use\n",
    "import numpy as np"
   ]
  },
  {
   "cell_type": "code",
   "execution_count": 2,
   "metadata": {},
   "outputs": [
    {
     "name": "stdout",
     "output_type": "stream",
     "text": [
      "[100 102 104 106 108 110 112 114 116 118 120 122 124 126 128 130 132 134\n",
      " 136 138 140 142 144 146 148 150 152 154 156 158]\n"
     ]
    }
   ],
   "source": [
    "arr = np.arange(100, 160, 2)\n",
    "print(arr)"
   ]
  },
  {
   "cell_type": "code",
   "execution_count": 3,
   "metadata": {},
   "outputs": [
    {
     "name": "stdout",
     "output_type": "stream",
     "text": [
      "first element\n",
      "100\n",
      "second element\n",
      "102\n",
      "third element\n",
      "104\n",
      "fourth element\n",
      "106\n"
     ]
    }
   ],
   "source": [
    "#Access individual array elements\n",
    "print(\"first element\")\n",
    "print(arr[0])\n",
    "\n",
    "print(\"second element\")\n",
    "print(arr[1])\n",
    "\n",
    "print(\"third element\")\n",
    "print(arr[2])\n",
    "\n",
    "print(\"fourth element\")\n",
    "print(arr[3])"
   ]
  },
  {
   "cell_type": "code",
   "execution_count": 4,
   "metadata": {},
   "outputs": [
    {
     "data": {
      "text/plain": [
       "array([100, 102, 104, 106, 108, 110, 112, 114, 116, 118, 120, 122, 124,\n",
       "       126, 128, 130, 132, 134, 136, 138, 140, 142, 144, 146, 148, 150,\n",
       "       152, 154, 156, 158])"
      ]
     },
     "execution_count": 4,
     "metadata": {},
     "output_type": "execute_result"
    }
   ],
   "source": [
    "arr"
   ]
  },
  {
   "cell_type": "code",
   "execution_count": 5,
   "metadata": {},
   "outputs": [
    {
     "data": {
      "text/plain": [
       "array([100, 102, 104, 106, 108])"
      ]
     },
     "execution_count": 5,
     "metadata": {},
     "output_type": "execute_result"
    }
   ],
   "source": [
    "#slicing of array indexes arr[start:stop:step]\n",
    "arr[0:5:1]"
   ]
  },
  {
   "cell_type": "code",
   "execution_count": 6,
   "metadata": {},
   "outputs": [
    {
     "name": "stdout",
     "output_type": "stream",
     "text": [
      "[  0   0   0   0   0 110 112 114 116 118 120 122 124 126 128 130 132 134\n",
      " 136 138 140 142 144 146 148 150 152 154 156 158]\n"
     ]
    }
   ],
   "source": [
    "#updating array using slices\n",
    "arr[0:5] = 0\n",
    "print(arr)"
   ]
  },
  {
   "cell_type": "code",
   "execution_count": 7,
   "metadata": {},
   "outputs": [
    {
     "name": "stdout",
     "output_type": "stream",
     "text": [
      "[  0 110 112 114 116 118]\n",
      "[1 1 1 1 1 1]\n"
     ]
    }
   ],
   "source": [
    "#memory allocation - view vs copy\n",
    "arr2 = arr[4:10]\n",
    "print(arr2)\n",
    "arr2[:] = 1\n",
    "print(arr2)"
   ]
  },
  {
   "cell_type": "code",
   "execution_count": 8,
   "metadata": {},
   "outputs": [
    {
     "name": "stdout",
     "output_type": "stream",
     "text": [
      "[  0   0   0   0   1   1   1   1   1   1 120 122 124 126 128 130 132 134\n",
      " 136 138 140 142 144 146 148 150 152 154 156 158]\n"
     ]
    }
   ],
   "source": [
    "print(arr)"
   ]
  },
  {
   "cell_type": "code",
   "execution_count": 9,
   "metadata": {},
   "outputs": [
    {
     "name": "stdout",
     "output_type": "stream",
     "text": [
      "[  0   0   0   0   1   1   1   1   1   1 120 122 124 126 128 130 132 134\n",
      " 136 138 140 142 144 146 148 150 152 154 156 158]\n"
     ]
    }
   ],
   "source": [
    "#copy() function => creating new numpy memory for array\n",
    "\n",
    "arr3 = arr.copy()\n",
    "print(arr3)"
   ]
  },
  {
   "cell_type": "markdown",
   "metadata": {},
   "source": [
    "## Multidimensional Array"
   ]
  },
  {
   "cell_type": "code",
   "execution_count": 10,
   "metadata": {},
   "outputs": [
    {
     "name": "stdout",
     "output_type": "stream",
     "text": [
      "[[1 2 3]\n",
      " [4 5 6]\n",
      " [7 8 9]]\n"
     ]
    }
   ],
   "source": [
    "arr2d = np.array([[1,2,3], [4,5,6], [7,8,9]])\n",
    "print(arr2d)"
   ]
  },
  {
   "cell_type": "code",
   "execution_count": 11,
   "metadata": {},
   "outputs": [
    {
     "name": "stdout",
     "output_type": "stream",
     "text": [
      "[1 2 3]\n",
      "[4 5 6]\n"
     ]
    }
   ],
   "source": [
    "#Accessing Rows\n",
    "print(arr2d[0])\n",
    "print(arr2d[1])"
   ]
  },
  {
   "cell_type": "code",
   "execution_count": 12,
   "metadata": {},
   "outputs": [
    {
     "name": "stdout",
     "output_type": "stream",
     "text": [
      "1\n",
      "8\n"
     ]
    }
   ],
   "source": [
    "#Accessing elements of array\n",
    "print(arr2d[0][0])\n",
    "print(arr2d[2][1])"
   ]
  },
  {
   "cell_type": "code",
   "execution_count": 13,
   "metadata": {},
   "outputs": [
    {
     "name": "stdout",
     "output_type": "stream",
     "text": [
      "[[1 2]]\n",
      "[[1 2 3]\n",
      " [4 5 6]]\n"
     ]
    }
   ],
   "source": [
    "#slicing in 2d arrays\n",
    "slice1 = arr2d[0:1, 0:2]\n",
    "print(slice1)\n",
    "slice2 = arr2d[0:2, 0:3]\n",
    "print(slice2)"
   ]
  },
  {
   "cell_type": "code",
   "execution_count": 14,
   "metadata": {},
   "outputs": [
    {
     "name": "stdout",
     "output_type": "stream",
     "text": [
      "[[1 2 3]\n",
      " [4 5 6]]\n"
     ]
    }
   ],
   "source": [
    "slice3 = arr2d[:2, :3]\n",
    "print(slice3)"
   ]
  },
  {
   "cell_type": "code",
   "execution_count": 15,
   "metadata": {},
   "outputs": [
    {
     "name": "stdout",
     "output_type": "stream",
     "text": [
      "[[6]\n",
      " [9]]\n"
     ]
    }
   ],
   "source": [
    "slice4 = arr2d[1: , 2:]\n",
    "print(slice4)"
   ]
  },
  {
   "cell_type": "code",
   "execution_count": 16,
   "metadata": {},
   "outputs": [
    {
     "name": "stdout",
     "output_type": "stream",
     "text": [
      "(3, 3)\n"
     ]
    }
   ],
   "source": [
    "#using loops to change index\n",
    "arr_len = arr2d.shape\n",
    "print(arr_len)\n",
    "nrows = arr_len[0]"
   ]
  },
  {
   "cell_type": "code",
   "execution_count": 17,
   "metadata": {},
   "outputs": [
    {
     "name": "stdout",
     "output_type": "stream",
     "text": [
      "[[0 2 3]\n",
      " [1 5 6]\n",
      " [2 8 9]]\n"
     ]
    }
   ],
   "source": [
    "for i in range(nrows):\n",
    "    arr2d[i][0] = i\n",
    "    \n",
    "print(arr2d)"
   ]
  },
  {
   "cell_type": "markdown",
   "metadata": {},
   "source": [
    "## Premium Array Operations"
   ]
  },
  {
   "cell_type": "code",
   "execution_count": 18,
   "metadata": {},
   "outputs": [
    {
     "name": "stdout",
     "output_type": "stream",
     "text": [
      "[ 0  1  2  3  4  5  6  7  8  9 10 11 12 13 14]\n"
     ]
    }
   ],
   "source": [
    "A = np.arange(15)\n",
    "print(A)"
   ]
  },
  {
   "cell_type": "code",
   "execution_count": 19,
   "metadata": {},
   "outputs": [
    {
     "name": "stdout",
     "output_type": "stream",
     "text": [
      "[5 6 7 8 9]\n"
     ]
    }
   ],
   "source": [
    "B = np.arange(5, 10)\n",
    "print(B)"
   ]
  },
  {
   "cell_type": "code",
   "execution_count": 20,
   "metadata": {},
   "outputs": [
    {
     "name": "stdout",
     "output_type": "stream",
     "text": [
      "[5 7 9]\n"
     ]
    }
   ],
   "source": [
    "C = np.arange(5,10,2)\n",
    "print(C)"
   ]
  },
  {
   "cell_type": "code",
   "execution_count": 21,
   "metadata": {},
   "outputs": [
    {
     "name": "stdout",
     "output_type": "stream",
     "text": [
      "[0.         1.         1.41421356 1.73205081 2.         2.23606798\n",
      " 2.44948974 2.64575131 2.82842712 3.         3.16227766 3.31662479\n",
      " 3.46410162 3.60555128 3.74165739]\n"
     ]
    }
   ],
   "source": [
    "#sqrt\n",
    "D = np.sqrt(A)\n",
    "print(D)"
   ]
  },
  {
   "cell_type": "code",
   "execution_count": 22,
   "metadata": {},
   "outputs": [
    {
     "name": "stdout",
     "output_type": "stream",
     "text": [
      "[1.00000000e+00 2.71828183e+00 7.38905610e+00 2.00855369e+01\n",
      " 5.45981500e+01 1.48413159e+02 4.03428793e+02 1.09663316e+03\n",
      " 2.98095799e+03 8.10308393e+03 2.20264658e+04 5.98741417e+04\n",
      " 1.62754791e+05 4.42413392e+05 1.20260428e+06]\n"
     ]
    }
   ],
   "source": [
    "#exp()\n",
    "E =  np.exp(A)\n",
    "print(E)"
   ]
  },
  {
   "cell_type": "code",
   "execution_count": 23,
   "metadata": {},
   "outputs": [
    {
     "name": "stdout",
     "output_type": "stream",
     "text": [
      "[-1.35141173  0.75279801  0.16473886 -0.39182405  1.05976432]\n"
     ]
    }
   ],
   "source": [
    "#random()\n",
    "\n",
    "F = np.random.randn(5)\n",
    "print(F)\n"
   ]
  },
  {
   "cell_type": "code",
   "execution_count": 24,
   "metadata": {},
   "outputs": [
    {
     "name": "stdout",
     "output_type": "stream",
     "text": [
      "[ 0.          2.          3.41421356  4.73205081  6.          7.23606798\n",
      "  8.44948974  9.64575131 10.82842712 12.         13.16227766 14.31662479\n",
      " 15.46410162 16.60555128 17.74165739]\n"
     ]
    }
   ],
   "source": [
    "#add()\n",
    "G = np.add(A, D)\n",
    "print(G)"
   ]
  },
  {
   "cell_type": "code",
   "execution_count": 25,
   "metadata": {},
   "outputs": [
    {
     "name": "stdout",
     "output_type": "stream",
     "text": [
      "[ 1  6  8 10]\n"
     ]
    }
   ],
   "source": [
    "#Maximum()\n",
    "A = np.array([1,5,7,10])\n",
    "B = np.array([0,6,8,9])\n",
    "\n",
    "H = np.maximum(A,B)\n",
    "print(H)"
   ]
  },
  {
   "cell_type": "markdown",
   "metadata": {},
   "source": [
    "## Loading and Saving Arrays"
   ]
  },
  {
   "cell_type": "code",
   "execution_count": 26,
   "metadata": {},
   "outputs": [
    {
     "name": "stdout",
     "output_type": "stream",
     "text": [
      "[0 1 2 3 4 5 6 7 8 9]\n"
     ]
    }
   ],
   "source": [
    "arr = np.arange(10)\n",
    "print(arr)"
   ]
  },
  {
   "cell_type": "code",
   "execution_count": 27,
   "metadata": {},
   "outputs": [],
   "source": [
    "#saving single array\n",
    "np.save(\"saved_array\", arr)"
   ]
  },
  {
   "cell_type": "code",
   "execution_count": 28,
   "metadata": {},
   "outputs": [
    {
     "name": "stdout",
     "output_type": "stream",
     "text": [
      "[0 1 2 3 4 5 6 7 8 9]\n"
     ]
    }
   ],
   "source": [
    "#loading saved array\n",
    "load_Array1 = np.load('saved_array.npy')\n",
    "print(load_Array1)"
   ]
  },
  {
   "cell_type": "code",
   "execution_count": 29,
   "metadata": {},
   "outputs": [],
   "source": [
    "#Saving Multiple Array\n",
    "\n",
    "arr2 = np.arange(25)\n",
    "arr3 = np.arange(5)\n",
    "\n",
    "np.savez('saved_archive.npz', x=arr2, y=arr3)\n"
   ]
  },
  {
   "cell_type": "code",
   "execution_count": 30,
   "metadata": {},
   "outputs": [
    {
     "name": "stdout",
     "output_type": "stream",
     "text": [
      "[ 0  1  2  3  4  5  6  7  8  9 10 11 12 13 14 15 16 17 18 19 20 21 22 23\n",
      " 24]\n",
      "[0 1 2 3 4]\n"
     ]
    }
   ],
   "source": [
    "#Loading Multiple Array\n",
    "load_npz = np.load('saved_archive.npz')\n",
    "print(load_npz['x'])\n",
    "print(load_npz['y'])"
   ]
  },
  {
   "cell_type": "code",
   "execution_count": 31,
   "metadata": {},
   "outputs": [],
   "source": [
    "#Saving array to text file\n",
    "np.savetxt('myarray.txt', arr2, delimiter= ',')"
   ]
  },
  {
   "cell_type": "code",
   "execution_count": 32,
   "metadata": {},
   "outputs": [
    {
     "name": "stdout",
     "output_type": "stream",
     "text": [
      "[ 0.  1.  2.  3.  4.  5.  6.  7.  8.  9. 10. 11. 12. 13. 14. 15. 16. 17.\n",
      " 18. 19. 20. 21. 22. 23. 24.]\n"
     ]
    }
   ],
   "source": [
    "#Loading array from text file\n",
    "load_file = np.loadtxt('myarray.txt', delimiter=',')\n",
    "print(load_file)"
   ]
  },
  {
   "cell_type": "code",
   "execution_count": 34,
   "metadata": {},
   "outputs": [],
   "source": [
    "#What is delimiter\n",
    "#A delimiter is a sequence of one or more characters used to specify the \n",
    "#boundary between separate, independent regions in plain text or other \n",
    "#data streams.An example of a delimiteris the comma character, which acts \n",
    "#as a field delimiter in a sequence of comma-separated values.\n"
   ]
  },
  {
   "cell_type": "code",
   "execution_count": 35,
   "metadata": {},
   "outputs": [],
   "source": [
    "# Following is the Types of Slicing\n",
    "#1. ndarray[start:end]\n",
    "#2. ndarray[start:]\n",
    "#3. ndarray[:end]\n",
    "#4. ndarray[start:stop:step]"
   ]
  },
  {
   "cell_type": "code",
   "execution_count": 36,
   "metadata": {},
   "outputs": [
    {
     "name": "stdout",
     "output_type": "stream",
     "text": [
      "[ 50  52  54  56  58  60  62  64  66  68  70  72  74  76  78  80  82  84\n",
      "  86  88  90  92  94  96  98 100 102 104 106 108 110 112 114 116 118]\n"
     ]
    }
   ],
   "source": [
    "arr = np.arange(50, 120, 2)\n",
    "print(arr)"
   ]
  },
  {
   "cell_type": "code",
   "execution_count": 37,
   "metadata": {},
   "outputs": [
    {
     "data": {
      "text/plain": [
       "array([50, 52, 54, 56, 58])"
      ]
     },
     "execution_count": 37,
     "metadata": {},
     "output_type": "execute_result"
    }
   ],
   "source": [
    "#slicing of array indexes arr[start:stop:step]\n",
    "arr[0:5:1]"
   ]
  },
  {
   "cell_type": "code",
   "execution_count": 38,
   "metadata": {},
   "outputs": [
    {
     "data": {
      "text/plain": [
       "array([60, 62, 64, 66, 68, 70, 72, 74, 76, 78])"
      ]
     },
     "execution_count": 38,
     "metadata": {},
     "output_type": "execute_result"
    }
   ],
   "source": [
    "#slicing of array indexes arr[start:step]\n",
    "arr[5:15]"
   ]
  },
  {
   "cell_type": "code",
   "execution_count": 39,
   "metadata": {},
   "outputs": [
    {
     "data": {
      "text/plain": [
       "array([ 80,  82,  84,  86,  88,  90,  92,  94,  96,  98, 100, 102, 104,\n",
       "       106, 108, 110, 112, 114, 116, 118])"
      ]
     },
     "execution_count": 39,
     "metadata": {},
     "output_type": "execute_result"
    }
   ],
   "source": [
    "#slicing of array indexes arr[start:]\n",
    "arr[15:]"
   ]
  },
  {
   "cell_type": "code",
   "execution_count": 40,
   "metadata": {},
   "outputs": [
    {
     "data": {
      "text/plain": [
       "array([50, 52, 54, 56, 58, 60, 62, 64, 66, 68, 70, 72, 74, 76, 78, 80, 82,\n",
       "       84, 86, 88, 90, 92, 94, 96, 98])"
      ]
     },
     "execution_count": 40,
     "metadata": {},
     "output_type": "execute_result"
    }
   ],
   "source": [
    "#slicing of array indexes arr[:end]\n",
    "arr[:25]"
   ]
  },
  {
   "cell_type": "code",
   "execution_count": 41,
   "metadata": {},
   "outputs": [
    {
     "name": "stdout",
     "output_type": "stream",
     "text": [
      "[  0   0   0   0   0  60  62  64  66  68  70  72  74  76  78  80  82  84\n",
      "  86  88  90  92  94  96  98 100 102 104 106 108 110 112 114 116 118]\n"
     ]
    }
   ],
   "source": [
    "#updating array using slices\n",
    "arr[0:5] = 0\n",
    "print(arr)"
   ]
  },
  {
   "cell_type": "code",
   "execution_count": 42,
   "metadata": {},
   "outputs": [
    {
     "name": "stdout",
     "output_type": "stream",
     "text": [
      "Print 2-D array: [[1 2 3]\n",
      " [4 5 6]\n",
      " [7 8 9]]\n",
      "\n",
      "2-D Elements  6\n",
      "\n",
      "[[1 2]\n",
      " [4 5]]\n",
      "\n",
      "After Replacement 2-D Array:\n",
      " [[ 1 15 15]\n",
      " [ 4 15 15]\n",
      " [ 7  8  9]]\n",
      "\n",
      "2Darray:\n",
      " 3\n",
      "\n",
      "For loop: [[0 0 0]\n",
      " [1 1 1]\n",
      " [2 2 2]]\n",
      "\n",
      "[[0 0 0]\n",
      " [1 1 1]]\n",
      "\n",
      "[[1 1 1]\n",
      " [0 0 0]]\n"
     ]
    }
   ],
   "source": [
    "#creating 2-Dimensional array\n",
    "D2array = np.array([[1,2,3],[4,5,6],[7,8,9]])\n",
    "print(\"Print 2-D array:\", D2array)\n",
    "print()\n",
    "# Printing Element from array index 2 of 2nd row\n",
    "print(\"2-D Elements \",D2array[1][2])\n",
    "print()\n",
    "#Slices of 2-D array\n",
    "#We select all the elements that are in 1st through third row and in the 1st to 3rd columns\n",
    "slice1 = D2array[0:2,0:2]\n",
    "print(slice1)\n",
    "print()\n",
    "#We replace element that are in 1st through second row and in the 2nd to 3rd column with 15\n",
    "D2array[:2,1:] = 15\n",
    "print(\"After Replacement 2-D Array:\\n\", D2array)\n",
    "print()\n",
    "#We use .shape[0] to get shape of array but here create array having values(0,1,2)\n",
    "arr_len = D2array.shape[0]\n",
    "print(\"2Darray:\\n\", arr_len)\n",
    "print()\n",
    "# We are using loops to indexing and accesing elemnts of arr_len\n",
    "for i in range(arr_len):\n",
    "    D2array[i] = i;\n",
    "print(\"For loop:\",D2array)\n",
    "print()\n",
    "#one more way of accessing the rows\n",
    "print(D2array[[0,1]])\n",
    "print()\n",
    "print(D2array[[1,0]])"
   ]
  },
  {
   "cell_type": "code",
   "execution_count": 45,
   "metadata": {},
   "outputs": [
    {
     "name": "stdout",
     "output_type": "stream",
     "text": [
      "[ 0  1  2  3  4  5  6  7  8  9 10 11 12 13 14 15 16 17 18 19 20 21 22 23\n",
      " 24 25 26 27 28 29 30 31 32 33 34 35 36 37 38 39 40 41 42 43 44 45 46 47\n",
      " 48 49]\n",
      "EXP(A) =\n",
      " [1.00000000e+00 2.71828183e+00 7.38905610e+00 2.00855369e+01\n",
      " 5.45981500e+01 1.48413159e+02 4.03428793e+02 1.09663316e+03\n",
      " 2.98095799e+03 8.10308393e+03 2.20264658e+04 5.98741417e+04\n",
      " 1.62754791e+05 4.42413392e+05 1.20260428e+06 3.26901737e+06\n",
      " 8.88611052e+06 2.41549528e+07 6.56599691e+07 1.78482301e+08\n",
      " 4.85165195e+08 1.31881573e+09 3.58491285e+09 9.74480345e+09\n",
      " 2.64891221e+10 7.20048993e+10 1.95729609e+11 5.32048241e+11\n",
      " 1.44625706e+12 3.93133430e+12 1.06864746e+13 2.90488497e+13\n",
      " 7.89629602e+13 2.14643580e+14 5.83461743e+14 1.58601345e+15\n",
      " 4.31123155e+15 1.17191424e+16 3.18559318e+16 8.65934004e+16\n",
      " 2.35385267e+17 6.39843494e+17 1.73927494e+18 4.72783947e+18\n",
      " 1.28516001e+19 3.49342711e+19 9.49611942e+19 2.58131289e+20\n",
      " 7.01673591e+20 1.90734657e+21]\n",
      "\n",
      "SQRT(A) =\n",
      " [0.         1.         1.41421356 1.73205081 2.         2.23606798\n",
      " 2.44948974 2.64575131 2.82842712 3.         3.16227766 3.31662479\n",
      " 3.46410162 3.60555128 3.74165739 3.87298335 4.         4.12310563\n",
      " 4.24264069 4.35889894 4.47213595 4.58257569 4.69041576 4.79583152\n",
      " 4.89897949 5.         5.09901951 5.19615242 5.29150262 5.38516481\n",
      " 5.47722558 5.56776436 5.65685425 5.74456265 5.83095189 5.91607978\n",
      " 6.         6.08276253 6.164414   6.244998   6.32455532 6.40312424\n",
      " 6.4807407  6.55743852 6.63324958 6.70820393 6.78232998 6.8556546\n",
      " 6.92820323 7.        ]\n",
      "\n",
      "Random(C) =\n",
      " [-1.14151654  0.82295458 -1.10809803 -1.1585553  -0.17955992]\n",
      "\n",
      "Addition of Array Elements(A&B) is:\n",
      " [ 0.          2.          3.41421356  4.73205081  6.          7.23606798\n",
      "  8.44948974  9.64575131 10.82842712 12.         13.16227766 14.31662479\n",
      " 15.46410162 16.60555128 17.74165739 18.87298335 20.         21.12310563\n",
      " 22.24264069 23.35889894 24.47213595 25.58257569 26.69041576 27.79583152\n",
      " 28.89897949 30.         31.09901951 32.19615242 33.29150262 34.38516481\n",
      " 35.47722558 36.56776436 37.65685425 38.74456265 39.83095189 40.91607978\n",
      " 42.         43.08276253 44.164414   45.244998   46.32455532 47.40312424\n",
      " 48.4807407  49.55743852 50.63324958 51.70820393 52.78232998 53.8556546\n",
      " 54.92820323 56.        ]\n",
      "\n",
      "Maximum value of all elements in C: 0.8229545808009293\n",
      "\n"
     ]
    }
   ],
   "source": [
    "# sqrt : Use to find  the square root of elements\n",
    "# exp : Perform exponent operation of maths\n",
    "# random :It creates a random numbers\n",
    "# addition : Perform addition of elements\n",
    "# maximum : Find maximum value of all elements in array\n",
    "\n",
    "A = np.arange(50)\n",
    "print(A)\n",
    "\n",
    "# We apply exponential and square root to all elements of A\n",
    "print('EXP(A) =\\n', np.exp(A))\n",
    "print()\n",
    "\n",
    "B = np.sqrt(A)\n",
    "print('SQRT(A) =\\n', B)\n",
    "print()\n",
    "\n",
    "#random()\n",
    "C = np.random.randn(5)\n",
    "print('Random(C) =\\n', C)\n",
    "print()\n",
    "\n",
    "# Addition\n",
    "D = np.add(A,B)\n",
    "print('Addition of Array Elements(A&B) is:\\n', D)\n",
    "print()\n",
    "\n",
    "#Maximum of Elements\n",
    "print('Maximum value of all elements in C:', C.max())\n",
    "print()"
   ]
  },
  {
   "cell_type": "code",
   "execution_count": 47,
   "metadata": {},
   "outputs": [
    {
     "name": "stdout",
     "output_type": "stream",
     "text": [
      "array [ 0  1  2  3  4  5  6  7  8  9 10 11 12 13 14 15 16 17 18 19]\n",
      "Loaded File:\n",
      " [ 0  1  2  3  4  5  6  7  8  9 10 11 12 13 14 15 16 17 18 19]\n",
      "load_archive[x] is:\n",
      "\n",
      "[ 0  1  2  3  4  5  6  7  8  9 10 11 12 13 14 15 16 17 18 19]\n",
      "load_archive[y] is\n",
      "[ 0  1  2  3  4  5  6  7  8  9 10 11 12 13 14 15 16 17 18 19 20 21 22 23\n",
      " 24 25 26 27 28 29 30 31 32 33 34 35 36 37 38 39 40 41 42 43 44]\n"
     ]
    },
    {
     "ename": "OSError",
     "evalue": "notepadfile.txt not found.",
     "output_type": "error",
     "traceback": [
      "\u001b[1;31m---------------------------------------------------------------------------\u001b[0m",
      "\u001b[1;31mOSError\u001b[0m                                   Traceback (most recent call last)",
      "\u001b[1;32m<ipython-input-47-b18574dd102d>\u001b[0m in \u001b[0;36m<module>\u001b[1;34m\u001b[0m\n\u001b[0;32m     36\u001b[0m \u001b[1;33m\u001b[0m\u001b[0m\n\u001b[0;32m     37\u001b[0m \u001b[1;31m# loading of txt files\u001b[0m\u001b[1;33m\u001b[0m\u001b[1;33m\u001b[0m\u001b[1;33m\u001b[0m\u001b[0m\n\u001b[1;32m---> 38\u001b[1;33m \u001b[0mload_txt_file\u001b[0m \u001b[1;33m=\u001b[0m \u001b[0mnp\u001b[0m\u001b[1;33m.\u001b[0m\u001b[0mloadtxt\u001b[0m\u001b[1;33m(\u001b[0m\u001b[1;34m'notepadfile.txt'\u001b[0m\u001b[1;33m,\u001b[0m\u001b[0mdelimiter\u001b[0m\u001b[1;33m=\u001b[0m\u001b[1;34m','\u001b[0m\u001b[1;33m)\u001b[0m\u001b[1;33m\u001b[0m\u001b[1;33m\u001b[0m\u001b[0m\n\u001b[0m\u001b[0;32m     39\u001b[0m \u001b[1;31m# loadtxt function is use to load text file array\u001b[0m\u001b[1;33m\u001b[0m\u001b[1;33m\u001b[0m\u001b[1;33m\u001b[0m\u001b[0m\n\u001b[0;32m     40\u001b[0m \u001b[0mprint\u001b[0m\u001b[1;33m(\u001b[0m\u001b[1;34m\"load_txt_file is\"\u001b[0m\u001b[1;33m)\u001b[0m\u001b[1;33m\u001b[0m\u001b[1;33m\u001b[0m\u001b[0m\n",
      "\u001b[1;32m~\\anaconda3\\lib\\site-packages\\numpy\\lib\\npyio.py\u001b[0m in \u001b[0;36mloadtxt\u001b[1;34m(fname, dtype, comments, delimiter, converters, skiprows, usecols, unpack, ndmin, encoding, max_rows)\u001b[0m\n\u001b[0;32m    979\u001b[0m             \u001b[0mfname\u001b[0m \u001b[1;33m=\u001b[0m \u001b[0mos_fspath\u001b[0m\u001b[1;33m(\u001b[0m\u001b[0mfname\u001b[0m\u001b[1;33m)\u001b[0m\u001b[1;33m\u001b[0m\u001b[1;33m\u001b[0m\u001b[0m\n\u001b[0;32m    980\u001b[0m         \u001b[1;32mif\u001b[0m \u001b[0m_is_string_like\u001b[0m\u001b[1;33m(\u001b[0m\u001b[0mfname\u001b[0m\u001b[1;33m)\u001b[0m\u001b[1;33m:\u001b[0m\u001b[1;33m\u001b[0m\u001b[1;33m\u001b[0m\u001b[0m\n\u001b[1;32m--> 981\u001b[1;33m             \u001b[0mfh\u001b[0m \u001b[1;33m=\u001b[0m \u001b[0mnp\u001b[0m\u001b[1;33m.\u001b[0m\u001b[0mlib\u001b[0m\u001b[1;33m.\u001b[0m\u001b[0m_datasource\u001b[0m\u001b[1;33m.\u001b[0m\u001b[0mopen\u001b[0m\u001b[1;33m(\u001b[0m\u001b[0mfname\u001b[0m\u001b[1;33m,\u001b[0m \u001b[1;34m'rt'\u001b[0m\u001b[1;33m,\u001b[0m \u001b[0mencoding\u001b[0m\u001b[1;33m=\u001b[0m\u001b[0mencoding\u001b[0m\u001b[1;33m)\u001b[0m\u001b[1;33m\u001b[0m\u001b[1;33m\u001b[0m\u001b[0m\n\u001b[0m\u001b[0;32m    982\u001b[0m             \u001b[0mfencoding\u001b[0m \u001b[1;33m=\u001b[0m \u001b[0mgetattr\u001b[0m\u001b[1;33m(\u001b[0m\u001b[0mfh\u001b[0m\u001b[1;33m,\u001b[0m \u001b[1;34m'encoding'\u001b[0m\u001b[1;33m,\u001b[0m \u001b[1;34m'latin1'\u001b[0m\u001b[1;33m)\u001b[0m\u001b[1;33m\u001b[0m\u001b[1;33m\u001b[0m\u001b[0m\n\u001b[0;32m    983\u001b[0m             \u001b[0mfh\u001b[0m \u001b[1;33m=\u001b[0m \u001b[0miter\u001b[0m\u001b[1;33m(\u001b[0m\u001b[0mfh\u001b[0m\u001b[1;33m)\u001b[0m\u001b[1;33m\u001b[0m\u001b[1;33m\u001b[0m\u001b[0m\n",
      "\u001b[1;32m~\\anaconda3\\lib\\site-packages\\numpy\\lib\\_datasource.py\u001b[0m in \u001b[0;36mopen\u001b[1;34m(path, mode, destpath, encoding, newline)\u001b[0m\n\u001b[0;32m    267\u001b[0m \u001b[1;33m\u001b[0m\u001b[0m\n\u001b[0;32m    268\u001b[0m     \u001b[0mds\u001b[0m \u001b[1;33m=\u001b[0m \u001b[0mDataSource\u001b[0m\u001b[1;33m(\u001b[0m\u001b[0mdestpath\u001b[0m\u001b[1;33m)\u001b[0m\u001b[1;33m\u001b[0m\u001b[1;33m\u001b[0m\u001b[0m\n\u001b[1;32m--> 269\u001b[1;33m     \u001b[1;32mreturn\u001b[0m \u001b[0mds\u001b[0m\u001b[1;33m.\u001b[0m\u001b[0mopen\u001b[0m\u001b[1;33m(\u001b[0m\u001b[0mpath\u001b[0m\u001b[1;33m,\u001b[0m \u001b[0mmode\u001b[0m\u001b[1;33m,\u001b[0m \u001b[0mencoding\u001b[0m\u001b[1;33m=\u001b[0m\u001b[0mencoding\u001b[0m\u001b[1;33m,\u001b[0m \u001b[0mnewline\u001b[0m\u001b[1;33m=\u001b[0m\u001b[0mnewline\u001b[0m\u001b[1;33m)\u001b[0m\u001b[1;33m\u001b[0m\u001b[1;33m\u001b[0m\u001b[0m\n\u001b[0m\u001b[0;32m    270\u001b[0m \u001b[1;33m\u001b[0m\u001b[0m\n\u001b[0;32m    271\u001b[0m \u001b[1;33m\u001b[0m\u001b[0m\n",
      "\u001b[1;32m~\\anaconda3\\lib\\site-packages\\numpy\\lib\\_datasource.py\u001b[0m in \u001b[0;36mopen\u001b[1;34m(self, path, mode, encoding, newline)\u001b[0m\n\u001b[0;32m    621\u001b[0m                                       encoding=encoding, newline=newline)\n\u001b[0;32m    622\u001b[0m         \u001b[1;32melse\u001b[0m\u001b[1;33m:\u001b[0m\u001b[1;33m\u001b[0m\u001b[1;33m\u001b[0m\u001b[0m\n\u001b[1;32m--> 623\u001b[1;33m             \u001b[1;32mraise\u001b[0m \u001b[0mIOError\u001b[0m\u001b[1;33m(\u001b[0m\u001b[1;34m\"%s not found.\"\u001b[0m \u001b[1;33m%\u001b[0m \u001b[0mpath\u001b[0m\u001b[1;33m)\u001b[0m\u001b[1;33m\u001b[0m\u001b[1;33m\u001b[0m\u001b[0m\n\u001b[0m\u001b[0;32m    624\u001b[0m \u001b[1;33m\u001b[0m\u001b[0m\n\u001b[0;32m    625\u001b[0m \u001b[1;33m\u001b[0m\u001b[0m\n",
      "\u001b[1;31mOSError\u001b[0m: notepadfile.txt not found."
     ]
    }
   ],
   "source": [
    "# Create  single arrays from 0-19\n",
    "arr = np.arange(20)\n",
    "print(\"array\", arr)\n",
    "\n",
    "#.save function saves a single array file with any name\n",
    "np.save('saved_Array',arr)\n",
    "#'saved_Array' is a array file name\n",
    "#New file is created - saved_Array.npy\n",
    "\n",
    "#np.load function load the previous saved file having extension .npy\n",
    "new_array = np.load('saved_Array.npy')\n",
    "print(\"Loaded File:\\n\",new_array)\n",
    "\n",
    "# Multiple arrays\n",
    "array1 = np.arange(20)\n",
    "array2 = np.arange(45)\n",
    "\n",
    "# .savez function use to save multidimension arrays\n",
    "np.savez('saved_archive.npz',x = array1, y = array2)\n",
    "\n",
    "load_archive = np.load('saved_archive.npz')\n",
    "# Loading first  from saved file\n",
    "print('load_archive[x] is:\\n')\n",
    "print(load_archive['x'])\n",
    "\n",
    "# Loading second array from saved file\n",
    "print('load_archive[y] is')\n",
    "print(load_archive['y'])\n",
    "\n",
    "\n",
    "#saving array to txtfile\n",
    "#While saving array in text file we use savetxt function\n",
    "np.savetxt('arrayfile.txt', array1, delimiter=',')\n",
    "\n",
    "# delimiter is used to seprate array elements \n",
    "\n",
    "# loading of txt files\n",
    "load_txt_file = np.loadtxt('notepadfile.txt',delimiter=',')\n",
    "# loadtxt function is use to load text file array \n",
    "print(\"load_txt_file is\")\n",
    "print(load_txt_file)"
   ]
  },
  {
   "cell_type": "code",
   "execution_count": null,
   "metadata": {},
   "outputs": [],
   "source": []
  }
 ],
 "metadata": {
  "kernelspec": {
   "display_name": "Python 3",
   "language": "python",
   "name": "python3"
  },
  "language_info": {
   "codemirror_mode": {
    "name": "ipython",
    "version": 3
   },
   "file_extension": ".py",
   "mimetype": "text/x-python",
   "name": "python",
   "nbconvert_exporter": "python",
   "pygments_lexer": "ipython3",
   "version": "3.7.6"
  }
 },
 "nbformat": 4,
 "nbformat_minor": 4
}
