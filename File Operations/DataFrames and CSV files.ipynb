{
 "cells": [
  {
   "cell_type": "code",
   "execution_count": 2,
   "metadata": {},
   "outputs": [],
   "source": [
    "import pandas as pd\n",
    "import numpy as np"
   ]
  },
  {
   "cell_type": "code",
   "execution_count": 3,
   "metadata": {},
   "outputs": [
    {
     "name": "stdout",
     "output_type": "stream",
     "text": [
      "  Company  Fleetsize  Revenue  Expenses  Profit\n",
      "0    Uber       6000       60        50      20\n",
      "1  Taxify      10000       70        80      40\n",
      "2  Gokada      30000       80        60      20\n",
      "3     Ola      50000       90        55      30\n",
      "4    Grab       7000      100        40      15\n"
     ]
    }
   ],
   "source": [
    "#importing csv files\n",
    "df1 = pd.read_csv('Car_Company.csv')\n",
    "print(df1)"
   ]
  },
  {
   "cell_type": "code",
   "execution_count": 4,
   "metadata": {},
   "outputs": [
    {
     "name": "stdout",
     "output_type": "stream",
     "text": [
      "  Company  Fleetsize  Revenue  Expenses  Profit\n",
      "0    Uber       6000       60        50      20\n",
      "1  Taxify      10000       70        80      40\n",
      "2  Gokada      30000       80        60      20\n",
      "3     Ola      50000       90        55      30\n",
      "4    Grab       7000      100        40      15\n"
     ]
    }
   ],
   "source": [
    "#read_table() function\n",
    "df2 = pd.read_table('Car_Company.csv', sep=',')\n",
    "print(df2)"
   ]
  },
  {
   "cell_type": "code",
   "execution_count": 5,
   "metadata": {},
   "outputs": [
    {
     "name": "stdout",
     "output_type": "stream",
     "text": [
      "  Company  Fleetsize  Revenue  Expenses  Profit\n",
      "0    Uber       6000       60        50      20\n",
      "1  Taxify      10000       70        80      40\n",
      "2  Gokada      30000       80        60      20\n"
     ]
    }
   ],
   "source": [
    "#importing partial rows\n",
    "df3 = pd.read_csv('Car_Company.csv', nrows=3)\n",
    "print(df3)"
   ]
  },
  {
   "cell_type": "code",
   "execution_count": null,
   "metadata": {},
   "outputs": [],
   "source": [
    "#dumping dataframe to csv file\n",
    "df3.to_csv('')"
   ]
  }
 ],
 "metadata": {
  "kernelspec": {
   "display_name": "Python 3",
   "language": "python",
   "name": "python3"
  },
  "language_info": {
   "codemirror_mode": {
    "name": "ipython",
    "version": 3
   },
   "file_extension": ".py",
   "mimetype": "text/x-python",
   "name": "python",
   "nbconvert_exporter": "python",
   "pygments_lexer": "ipython3",
   "version": "3.7.6"
  }
 },
 "nbformat": 4,
 "nbformat_minor": 4
}
